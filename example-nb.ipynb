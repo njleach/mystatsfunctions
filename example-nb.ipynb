{
 "cells": [
  {
   "cell_type": "code",
   "execution_count": 1,
   "id": "enabling-distance",
   "metadata": {},
   "outputs": [],
   "source": [
    "from mystatsfunctions import OLSE,LMoments\n",
    "\n",
    "import numpy as np\n",
    "import scipy as sp\n",
    "from scipy import stats\n",
    "import matplotlib.pyplot as plt\n",
    "import seaborn as sn"
   ]
  },
  {
   "cell_type": "markdown",
   "id": "greek-premium",
   "metadata": {},
   "source": [
    "# Ordinary least square estimator (OLSE)"
   ]
  },
  {
   "cell_type": "code",
   "execution_count": null,
   "id": "composed-sound",
   "metadata": {},
   "outputs": [],
   "source": []
  },
  {
   "cell_type": "markdown",
   "id": "listed-enhancement",
   "metadata": {},
   "source": [
    "# L-moments (LMoments)"
   ]
  },
  {
   "cell_type": "markdown",
   "id": "natural-picture",
   "metadata": {},
   "source": [
    "#### comparing L-moments with `scipy.stats.distn.fit`"
   ]
  },
  {
   "cell_type": "markdown",
   "id": "skilled-thumbnail",
   "metadata": {},
   "source": [
    "GEV"
   ]
  },
  {
   "cell_type": "code",
   "execution_count": 2,
   "id": "earned-studio",
   "metadata": {},
   "outputs": [],
   "source": [
    "## generate multiple samples of the same underlying population:\n",
    "true_k = -0.1\n",
    "true_X = 0\n",
    "true_alph = 1\n",
    "gev_samples = stats.genextreme(true_k,true_X,true_alph).rvs(100000).reshape(100,1000)"
   ]
  },
  {
   "cell_type": "code",
   "execution_count": 3,
   "id": "animated-brown",
   "metadata": {},
   "outputs": [
    {
     "name": "stdout",
     "output_type": "stream",
     "text": [
      "L-moments time:\n",
      "CPU times: user 29.9 ms, sys: 8.52 ms, total: 38.4 ms\n",
      "Wall time: 38.2 ms\n",
      "\n",
      "MLE time\n",
      "CPU times: user 1min 59s, sys: 360 ms, total: 1min 59s\n",
      "Wall time: 1min 59s\n"
     ]
    }
   ],
   "source": [
    "## use LMoments to fit these samples:\n",
    "lmom = LMoments.gev()\n",
    "print('L-moments time:')\n",
    "%time lmom.fit(gev_samples)\n",
    "\n",
    "## use stats.fit\n",
    "print('\\nMLE time')\n",
    "%time sp_mle_params = np.array([stats.genextreme.fit(x) for x in gev_samples.T])"
   ]
  },
  {
   "cell_type": "code",
   "execution_count": 4,
   "id": "dried-mattress",
   "metadata": {},
   "outputs": [
    {
     "data": {
      "image/png": "[encoded data removed]",
      "text/plain": [
       "<Figure size 1080x216 with 4 Axes>"
      ]
     },
     "metadata": {
      "needs_background": "light"
     },
     "output_type": "display_data"
    }
   ],
   "source": [
    "## plot parameter estimates:\n",
    "fig,ax = plt.subplots(1,4,figsize=(15,3))\n",
    "param_names = ['k','X',r'$\\alpha$']\n",
    "truth = [true_k,true_X,true_alph]\n",
    "\n",
    "for i in np.arange(3):\n",
    "    ax[i].hist(list(lmom.__dict__.values())[i],color='blue',label='L-moments',histtype='step',bins=25,linewidth=1.5,density=True)\n",
    "    ax[i].hist(sp_mle_params[:,i],color='orange',label='MLE',histtype='step',bins=25,linewidth=1.5,density=True)\n",
    "    ax[i].axvline(truth[i],color='k',alpha=0.5,ls=':')\n",
    "    ax[i].set_title(param_names[i])\n",
    "    ax[i].set_ylim(0,6.5)\n",
    "\n",
    "    \n",
    "## and plot the 1 % event estimates:\n",
    "true_1 = stats.genextreme(true_k,true_X,true_alph).ppf(0.99)\n",
    "lmom_estimates = 1-lmom.cdf(true_1)\n",
    "sp_mle_estimates = 1-sp.stats.genextreme(*sp_mle_params.T).cdf(true_1)\n",
    "\n",
    "ax[3].hist(lmom_estimates,color='blue',label='L-moments',histtype='step',bins=25,linewidth=1.5,density=True)\n",
    "ax[3].hist(sp_mle_estimates,color='orange',label='MLE',histtype='step',bins=25,linewidth=1.5,density=True)\n",
    "ax[3].axvline(0.01,color='k',alpha=0.5,ls=':')\n",
    "ax[3].set_title('Estimated $P$(1% event)')\n",
    "\n",
    "ax[0].legend(frameon=False,loc='upper left')\n",
    "sn.despine()"
   ]
  },
  {
   "cell_type": "markdown",
   "id": "mathematical-efficiency",
   "metadata": {},
   "source": [
    "GLo"
   ]
  },
  {
   "cell_type": "code",
   "execution_count": null,
   "id": "antique-strength",
   "metadata": {},
   "outputs": [],
   "source": []
  },
  {
   "cell_type": "markdown",
   "id": "dense-dietary",
   "metadata": {},
   "source": [
    "GPD"
   ]
  },
  {
   "cell_type": "code",
   "execution_count": null,
   "id": "fifty-squad",
   "metadata": {},
   "outputs": [],
   "source": []
  },
  {
   "cell_type": "markdown",
   "id": "wrong-budget",
   "metadata": {},
   "source": [
    "norm"
   ]
  },
  {
   "cell_type": "code",
   "execution_count": null,
   "id": "rental-durham",
   "metadata": {},
   "outputs": [],
   "source": []
  }
 ],
 "metadata": {
  "kernelspec": {
   "display_name": "Python 3",
   "language": "python",
   "name": "python3"
  },
  "language_info": {
   "codemirror_mode": {
    "name": "ipython",
    "version": 3
   },
   "file_extension": ".py",
   "mimetype": "text/x-python",
   "name": "python",
   "nbconvert_exporter": "python",
   "pygments_lexer": "ipython3",
   "version": "3.7.10"
  }
 },
 "nbformat": 4,
 "nbformat_minor": 5
}
